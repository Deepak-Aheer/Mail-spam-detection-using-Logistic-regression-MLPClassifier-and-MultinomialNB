{
 "cells": [
  {
   "cell_type": "code",
   "execution_count": 1,
   "metadata": {},
   "outputs": [],
   "source": [
    "import pandas as pd\n",
    "import numpy as np\n",
    "from sklearn.model_selection import train_test_split\n",
    "from sklearn.metrics import accuracy_score,confusion_matrix\n",
    "from sklearn.feature_extraction.text import CountVectorizer,TfidfTransformer\n",
    "from sklearn.linear_model import LogisticRegression\n",
    "from sklearn.neural_network import MLPClassifier\n",
    "from sklearn.naive_bayes import MultinomialNB"
   ]
  },
  {
   "cell_type": "code",
   "execution_count": 2,
   "metadata": {},
   "outputs": [
    {
     "data": {
      "text/html": [
       "<div>\n",
       "<style scoped>\n",
       "    .dataframe tbody tr th:only-of-type {\n",
       "        vertical-align: middle;\n",
       "    }\n",
       "\n",
       "    .dataframe tbody tr th {\n",
       "        vertical-align: top;\n",
       "    }\n",
       "\n",
       "    .dataframe thead th {\n",
       "        text-align: right;\n",
       "    }\n",
       "</style>\n",
       "<table border=\"1\" class=\"dataframe\">\n",
       "  <thead>\n",
       "    <tr style=\"text-align: right;\">\n",
       "      <th></th>\n",
       "      <th>series</th>\n",
       "      <th>label</th>\n",
       "      <th>text</th>\n",
       "      <th>label_num</th>\n",
       "    </tr>\n",
       "  </thead>\n",
       "  <tbody>\n",
       "    <tr>\n",
       "      <th>0</th>\n",
       "      <td>605</td>\n",
       "      <td>ham</td>\n",
       "      <td>Subject: enron methanol ; meter # : 988291\\r\\n...</td>\n",
       "      <td>0</td>\n",
       "    </tr>\n",
       "    <tr>\n",
       "      <th>1</th>\n",
       "      <td>2349</td>\n",
       "      <td>ham</td>\n",
       "      <td>Subject: hpl nom for january 9 , 2001\\r\\n( see...</td>\n",
       "      <td>0</td>\n",
       "    </tr>\n",
       "    <tr>\n",
       "      <th>2</th>\n",
       "      <td>3624</td>\n",
       "      <td>ham</td>\n",
       "      <td>Subject: neon retreat\\r\\nho ho ho , we ' re ar...</td>\n",
       "      <td>0</td>\n",
       "    </tr>\n",
       "    <tr>\n",
       "      <th>3</th>\n",
       "      <td>4685</td>\n",
       "      <td>spam</td>\n",
       "      <td>Subject: photoshop , windows , office . cheap ...</td>\n",
       "      <td>1</td>\n",
       "    </tr>\n",
       "    <tr>\n",
       "      <th>4</th>\n",
       "      <td>2030</td>\n",
       "      <td>ham</td>\n",
       "      <td>Subject: re : indian springs\\r\\nthis deal is t...</td>\n",
       "      <td>0</td>\n",
       "    </tr>\n",
       "  </tbody>\n",
       "</table>\n",
       "</div>"
      ],
      "text/plain": [
       "   series label                                               text  label_num\n",
       "0     605   ham  Subject: enron methanol ; meter # : 988291\\r\\n...          0\n",
       "1    2349   ham  Subject: hpl nom for january 9 , 2001\\r\\n( see...          0\n",
       "2    3624   ham  Subject: neon retreat\\r\\nho ho ho , we ' re ar...          0\n",
       "3    4685  spam  Subject: photoshop , windows , office . cheap ...          1\n",
       "4    2030   ham  Subject: re : indian springs\\r\\nthis deal is t...          0"
      ]
     },
     "execution_count": 2,
     "metadata": {},
     "output_type": "execute_result"
    }
   ],
   "source": [
    "df=pd.read_excel(\"spam_ham_dataset.xlsx\")\n",
    "df.head(5)"
   ]
  },
  {
   "cell_type": "code",
   "execution_count": 3,
   "metadata": {},
   "outputs": [],
   "source": [
    "X,Y = df.text.fillna(''), df.label"
   ]
  },
  {
   "cell_type": "code",
   "execution_count": 4,
   "metadata": {},
   "outputs": [],
   "source": [
    "cv=CountVectorizer(encoding='utf-8', input='content')\n",
    "tf=TfidfTransformer()\n",
    "X=cv.fit_transform(X)\n",
    "X=tf.fit_transform(X)\n",
    "xtrain,xtest,ytrain,ytest=train_test_split(X,Y,test_size=0.2,random_state=0,shuffle=True)"
   ]
  },
  {
   "cell_type": "code",
   "execution_count": 5,
   "metadata": {},
   "outputs": [
    {
     "name": "stdout",
     "output_type": "stream",
     "text": [
      "(4136, 50447) (1035, 50447)\n"
     ]
    }
   ],
   "source": [
    "model=LogisticRegression()\n",
    "model2=MLPClassifier(verbose=True,solver='adam')\n",
    "print(xtrain.shape,xtest.shape)"
   ]
  },
  {
   "cell_type": "code",
   "execution_count": 6,
   "metadata": {
    "scrolled": true
   },
   "outputs": [
    {
     "data": {
      "text/plain": [
       "LogisticRegression(C=1.0, class_weight=None, dual=False, fit_intercept=True,\n",
       "          intercept_scaling=1, max_iter=100, multi_class='ovr', n_jobs=1,\n",
       "          penalty='l2', random_state=None, solver='liblinear', tol=0.0001,\n",
       "          verbose=0, warm_start=False)"
      ]
     },
     "execution_count": 6,
     "metadata": {},
     "output_type": "execute_result"
    }
   ],
   "source": [
    "model.fit(xtrain,ytrain)"
   ]
  },
  {
   "cell_type": "code",
   "execution_count": 7,
   "metadata": {},
   "outputs": [
    {
     "name": "stdout",
     "output_type": "stream",
     "text": [
      "Iteration 1, loss = 0.60988546\n",
      "Iteration 2, loss = 0.36277267\n",
      "Iteration 3, loss = 0.20138238\n",
      "Iteration 4, loss = 0.11698205\n",
      "Iteration 5, loss = 0.07439492\n",
      "Iteration 6, loss = 0.05100779\n",
      "Iteration 7, loss = 0.03703688\n",
      "Iteration 8, loss = 0.02825430\n",
      "Iteration 9, loss = 0.02225821\n",
      "Iteration 10, loss = 0.01803821\n",
      "Iteration 11, loss = 0.01498290\n",
      "Iteration 12, loss = 0.01264391\n",
      "Iteration 13, loss = 0.01088178\n",
      "Iteration 14, loss = 0.00946444\n",
      "Iteration 15, loss = 0.00834711\n",
      "Iteration 16, loss = 0.00743771\n",
      "Iteration 17, loss = 0.00667693\n",
      "Iteration 18, loss = 0.00605881\n",
      "Iteration 19, loss = 0.00553353\n",
      "Iteration 20, loss = 0.00508825\n",
      "Iteration 21, loss = 0.00470594\n",
      "Iteration 22, loss = 0.00437195\n",
      "Iteration 23, loss = 0.00408520\n",
      "Iteration 24, loss = 0.00383449\n",
      "Iteration 25, loss = 0.00361331\n",
      "Iteration 26, loss = 0.00341816\n",
      "Iteration 27, loss = 0.00324111\n",
      "Iteration 28, loss = 0.00308769\n",
      "Iteration 29, loss = 0.00294596\n",
      "Iteration 30, loss = 0.00282104\n",
      "Iteration 31, loss = 0.00270639\n",
      "Iteration 32, loss = 0.00260342\n",
      "Iteration 33, loss = 0.00250801\n",
      "Iteration 34, loss = 0.00242252\n",
      "Iteration 35, loss = 0.00234383\n",
      "Training loss did not improve more than tol=0.000100 for two consecutive epochs. Stopping.\n"
     ]
    },
    {
     "data": {
      "text/plain": [
       "MLPClassifier(activation='relu', alpha=0.0001, batch_size='auto', beta_1=0.9,\n",
       "       beta_2=0.999, early_stopping=False, epsilon=1e-08,\n",
       "       hidden_layer_sizes=(100,), learning_rate='constant',\n",
       "       learning_rate_init=0.001, max_iter=200, momentum=0.9,\n",
       "       nesterovs_momentum=True, power_t=0.5, random_state=None,\n",
       "       shuffle=True, solver='adam', tol=0.0001, validation_fraction=0.1,\n",
       "       verbose=True, warm_start=False)"
      ]
     },
     "execution_count": 7,
     "metadata": {},
     "output_type": "execute_result"
    }
   ],
   "source": [
    "model2.fit(xtrain,ytrain)"
   ]
  },
  {
   "cell_type": "code",
   "execution_count": 8,
   "metadata": {},
   "outputs": [
    {
     "data": {
      "text/plain": [
       "MultinomialNB(alpha=1.0, class_prior=None, fit_prior=True)"
      ]
     },
     "execution_count": 8,
     "metadata": {},
     "output_type": "execute_result"
    }
   ],
   "source": [
    "model3=MultinomialNB()\n",
    "model3.fit(xtrain,ytrain)"
   ]
  },
  {
   "cell_type": "code",
   "execution_count": 9,
   "metadata": {},
   "outputs": [],
   "source": [
    "pred=model.predict(xtest)"
   ]
  },
  {
   "cell_type": "code",
   "execution_count": 10,
   "metadata": {},
   "outputs": [],
   "source": [
    "pred2=model2.predict(xtest)"
   ]
  },
  {
   "cell_type": "code",
   "execution_count": 11,
   "metadata": {},
   "outputs": [],
   "source": [
    "pred3=model3.predict(xtest)"
   ]
  },
  {
   "cell_type": "code",
   "execution_count": 12,
   "metadata": {},
   "outputs": [
    {
     "data": {
      "text/plain": [
       "0.9884057971014493"
      ]
     },
     "execution_count": 12,
     "metadata": {},
     "output_type": "execute_result"
    }
   ],
   "source": [
    "accuracy_score(pred2,ytest)"
   ]
  },
  {
   "cell_type": "code",
   "execution_count": 13,
   "metadata": {},
   "outputs": [
    {
     "data": {
      "text/plain": [
       "0.9758454106280193"
      ]
     },
     "execution_count": 13,
     "metadata": {},
     "output_type": "execute_result"
    }
   ],
   "source": [
    "accuracy_score(pred,ytest)"
   ]
  },
  {
   "cell_type": "code",
   "execution_count": 14,
   "metadata": {},
   "outputs": [
    {
     "data": {
      "text/plain": [
       "0.8695652173913043"
      ]
     },
     "execution_count": 14,
     "metadata": {},
     "output_type": "execute_result"
    }
   ],
   "source": [
    "accuracy_score(pred3,ytest)"
   ]
  },
  {
   "cell_type": "code",
   "execution_count": 15,
   "metadata": {},
   "outputs": [],
   "source": [
    "vocab=cv.vocabulary_"
   ]
  },
  {
   "cell_type": "code",
   "execution_count": 16,
   "metadata": {},
   "outputs": [],
   "source": [
    "cv=CountVectorizer(vocabulary=vocab)"
   ]
  },
  {
   "cell_type": "code",
   "execution_count": 17,
   "metadata": {},
   "outputs": [],
   "source": [
    "text='''Subject: mid year prc meeting\n",
    "\n",
    "i would like to have our prc meeting on thursday , 6 / 8 . because of trading ,\n",
    "\n",
    "we will not be able to start until noon . please confirm to me asap ( by end\n",
    "\n",
    "of day , today ) that you will be available . please keep in mind that we will\n",
    "\n",
    "went last time from 1 : 00 pm until almost midnight . your commitment of this\n",
    "\n",
    "date will include the evening hours\n",
    "\n",
    "thanks .'''"
   ]
  },
  {
   "cell_type": "code",
   "execution_count": 18,
   "metadata": {},
   "outputs": [],
   "source": [
    "text=cv.fit_transform([text])\n",
    "text=tf.fit_transform(text)"
   ]
  },
  {
   "cell_type": "code",
   "execution_count": 19,
   "metadata": {},
   "outputs": [],
   "source": [
    "pred=model.predict(text)"
   ]
  },
  {
   "cell_type": "code",
   "execution_count": 20,
   "metadata": {},
   "outputs": [
    {
     "data": {
      "text/plain": [
       "array(['ham'], dtype=object)"
      ]
     },
     "execution_count": 20,
     "metadata": {},
     "output_type": "execute_result"
    }
   ],
   "source": [
    "pred"
   ]
  },
  {
   "cell_type": "code",
   "execution_count": 21,
   "metadata": {},
   "outputs": [],
   "source": [
    "text=\"hi darling what are you doing\"\n",
    "text=cv.fit_transform([text])\n",
    "text=tf.fit_transform(text)\n",
    "pred=model.predict(text)"
   ]
  },
  {
   "cell_type": "code",
   "execution_count": 22,
   "metadata": {},
   "outputs": [],
   "source": [
    "from tkinter import *\n",
    "from tkinter.scrolledtext import ScrolledText"
   ]
  },
  {
   "cell_type": "code",
   "execution_count": null,
   "metadata": {},
   "outputs": [],
   "source": [
    "win=Tk()\n",
    "win.title('SpamClassifier')\n",
    "win.resizable(False,False)\n",
    "win.geometry('800x750')\n",
    "def action():\n",
    "    global t\n",
    "    if(len(t.get())>=20):\n",
    "        text=str(t.get())\n",
    "        Label(win,text='Subject : '+text[0:48]+\"\\n\"+text[48:96]+\"\\n\"+text[96:],\n",
    "              font=(\"Helvetica\", \"10\"),fg='red').place(relx=0,rely=0.45,relwidth=1,relheight=0.3)   \n",
    "        text=cv.fit_transform([text])\n",
    "        text=tf.fit_transform(text)\n",
    "        pred=model.predict(text)  \n",
    "        t.delete(0,len(t.get()))\n",
    "        Label(win,text=\"Category : \"+pred,font=(\"Helvetica\", \"15\")).place(relx=0.15,rely=0.7,relwidth=0.65,relheight=0.1)\n",
    "    else:\n",
    "        Label(win,text=\"Error : Subject must be of 10 words atleast...!!! \",\n",
    "              font=(\"Helvetica\", \"15\")).place(relx=0.15,rely=0.7,relwidth=0.65,relheight=0.1)\n",
    "        \n",
    "Label(win,text='Email Spaming',bg='darkblue',font=(\"Helvetica\", \"25\")).place(relx=0,rely=0,relwidth=1,relheight=0.15)\n",
    "Label(win,bg='yellow').place(relx=0,rely=0.95,relwidth=1,relheight=0.15)\n",
    "t =Entry(win,width=80,font=(\"Helvetica\", \"20\"))\n",
    "t.place(relx=0.05,rely=0.3,relwidth=0.9,relheight=0.08)\n",
    "Button(win,text='submit',bg='silver',command=action,font=(\"Helvetica\", \"13\")).place(relx=0.42,rely=0.4,\n",
    "                                                                                    relwidth=0.1,relheight=0.05)\n",
    "mainloop()"
   ]
  },
  {
   "cell_type": "code",
   "execution_count": null,
   "metadata": {},
   "outputs": [],
   "source": []
  }
 ],
 "metadata": {
  "kernelspec": {
   "display_name": "Python 3",
   "language": "python",
   "name": "python3"
  },
  "language_info": {
   "codemirror_mode": {
    "name": "ipython",
    "version": 3
   },
   "file_extension": ".py",
   "mimetype": "text/x-python",
   "name": "python",
   "nbconvert_exporter": "python",
   "pygments_lexer": "ipython3",
   "version": "3.6.5"
  }
 },
 "nbformat": 4,
 "nbformat_minor": 2
}
